from PIL import Image
import matplotlib.pyplot as plt

# Load the image
img_path = '/content/ohms.jpg'
try:
    img = Image.open(img_path)
except FileNotFoundError:
    raise FileNotFoundError(f"Error: File not found at {img_path}")

# Desired output dimensions
desired_width = 400
desired_height = 289
original_width, original_height = img.size
original_aspect = original_width / original_height
desired_aspect = desired_width / desired_height

print(f"Original image size: {original_width}x{original_height}")
print(f"Desired image size: {desired_width}x{desired_height}")

if original_aspect < desired_aspect:
    print("The original image is taller than the desired aspect ratio. Vertical cropping needed.")

    # Resize width first, preserving aspect ratio
    new_height = int(desired_width / original_aspect)
    resized_img = img.resize((desired_width, new_height), Image.LANCZOS)
    print(f"Image resized to: {resized_img.size}")

    crop_amount_needed = new_height - desired_height
    print(f"\nTotal crop needed: {crop_amount_needed}px")

    # Ask user for crop percentage from top
    top_crop_percent = float(input("Enter how much % to crop from top (e.g. 40 means 40% of crop is from top): "))
    top_crop_px = int(crop_amount_needed * (top_crop_percent / 100))
    bottom_crop_px = crop_amount_needed - top_crop_px

    print(f"\nCropping {top_crop_px}px from top and {bottom_crop_px}px from bottom")

    # Crop the image
    left = 0
    right = desired_width
    top = top_crop_px
    bottom = new_height - bottom_crop_px
    final_img = resized_img.crop((left, top, right, bottom))

elif original_aspect > desired_aspect:
    print("The original image is wider than the desired aspect ratio. Horizontal cropping may be needed (not implemented here).")
    resized_img = img.resize((desired_width, int(desired_width / original_aspect)), Image.LANCZOS)
    final_img = Image.new("RGB", (desired_width, desired_height), color=(0, 0, 0))
    paste_y = (desired_height - resized_img.size[1]) // 2
    final_img.paste(resized_img, (0, paste_y))

else:
    print("The original aspect ratio matches the desired one. Resizing only.")
    final_img = img.resize((desired_width, desired_height), Image.LANCZOS)

# Show final image
plt.imshow(final_img)
plt.title(f'Resized and Cropped Image ({final_img.size[0]}x{final_img.size[1]})')
plt.axis('off')
plt.show()

# Save
final_img.save("ohms_resized_cropped.jpg", quality=95)
print("Saved as ohms_resized_cropped.jpg")
