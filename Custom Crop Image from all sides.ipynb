from PIL import Image, ImageDraw

def create_circular_image_custom_crop(image_path, output_size=512,
                                      crop_pct_left=0.0, crop_pct_right=0.0,
                                      crop_pct_top=0.0, crop_pct_bottom=0.0):
    """
    Processes an image with custom crop percentages and places it centered
    in a square canvas with a circular mask, preserving aspect ratio.

    Args:
        image_path (str): Path to input image.
        output_size (int): Size of the final square image.
        crop_pct_left/right/top/bottom (float): Crop fractions from each side (0.0 to 1.0).
    """
    try:
        img = Image.open(image_path).convert("RGBA")
    except FileNotFoundError:
        print(f"Error: Image not found at {image_path}")
        return
    except Exception as e:
        print(f"Error loading image: {e}")
        return

    # Original size
    width, height = img.size

    # Cropping bounds
    left = int(width * crop_pct_left)
    right = width - int(width * crop_pct_right)
    top = int(height * crop_pct_top)
    bottom = height - int(height * crop_pct_bottom)

    # Crop image
    img = img.crop((left, top, right, bottom))

    # Resize proportionally to fit within output_size square
    img.thumbnail((output_size, output_size), Image.LANCZOS)

    # Create new square canvas
    final_img = Image.new("RGBA", (output_size, output_size), (0, 0, 0, 0))

    # Center the resized image on the canvas
    offset_x = (output_size - img.width) // 2
    offset_y = (output_size - img.height) // 2
    final_img.paste(img, (offset_x, offset_y), img)

    # Create circular mask
    mask = Image.new("L", (output_size, output_size), 0)
    draw = ImageDraw.Draw(mask)
    draw.ellipse((0, 0, output_size, output_size), fill=255)

    # Apply mask to final image
    final_img.putalpha(mask)

    # Save output
    output_filename = f"circular_image_{output_size}.png"
    final_img.save(output_filename, format="PNG")
    print(f"✅ Processed image saved as: {output_filename}")

    image_to_process = '/content/delete.jpg'
output_dimension = 512

create_circular_image_custom_crop(
    image_path=image_to_process,
    output_size=output_dimension,
    crop_pct_left=0.2,
    crop_pct_right=0.0,
    crop_pct_top=0.4,
    crop_pct_bottom=0.0
)
